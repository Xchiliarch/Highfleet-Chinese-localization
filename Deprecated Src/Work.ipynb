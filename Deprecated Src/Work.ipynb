{
 "cells": [
  {
   "cell_type": "markdown",
   "metadata": {},
   "source": [
    "本文件为生成汉化文件的源代码，如只想生成默认的汉化（即与Release内相同的汉化文件，只需要Pip安装Requirements.txt后依次运行下列代码，即可在build文件夹内生成所有汉化用文件\n",
    "如想要自己修改汉化内容或添加字体，请根据文件内指示进行操作。\n",
    "\n",
    "Huge thanks to stopnoanime for decrypting the dialog file of Highfleet , localization would never be possible without your work.\n",
    "\n",
    "感谢 Homobanana,Iansniper,Commie-Spy,Rogo921,BI-XY,Xchiliarch,Eistin-Yite,OpaqueArc,KagaJiankui,Suesun-1132,xlmzg,LeberechtSchorner 参与汉化工作。\n",
    "\n",
    "感谢所有参与提交汉化问题的群友。\n",
    "\n",
    "This project can never be done by me alone."
   ]
  },
  {
   "cell_type": "code",
   "execution_count": 1,
   "metadata": {},
   "outputs": [],
   "source": [
    "import HF_Func as HF\n",
    "import re\n"
   ]
  },
  {
   "cell_type": "markdown",
   "metadata": {},
   "source": [
    "### 第一步 输入参数并填写fonts.txt\n",
    "fonts.txt填写例子：A20{coorX,coorY,rectX,rectY} A20：字体名称，可使用除$*及游戏内使用的符号 每种字体输完换行\n",
    "\n",
    "大括号内数据需生成字体Draw_char.txt后在绘图软件内实际情况填写但是必须含大括号及数字。未确定前可使用随机数填充 如 A20{0,0,0,0}\n"
   ]
  },
  {
   "cell_type": "code",
   "execution_count": 3,
   "metadata": {},
   "outputs": [],
   "source": [
    "default_font = 'SH20_SAND'               #确定默认字体   #define the default font\n",
    "row_num = 51                        #贴图一行字符数 #define the chars in a row in Photoshop\n",
    "tex_name = 'Static11'               #材质贴图名称   #the name of the tex file\n",
    "font_file ='fonts.txt'              #字体名字       #the fonts used in the dialog\n",
    "translation_file = 'chinese.txt'    #汉化文件       #the translation of dialog"
   ]
  },
  {
   "cell_type": "markdown",
   "metadata": {},
   "source": [
    "### 第二步 运行字体分析"
   ]
  },
  {
   "cell_type": "code",
   "execution_count": 28,
   "metadata": {},
   "outputs": [
    {
     "name": "stdout",
     "output_type": "stream",
     "text": [
      "\n",
      "SH20_SAND: 2176 chars \n",
      "SH20_BLUE: 11 chars \n",
      "SH20_YELLOW: 56 chars \n",
      "SH20_BLACK: 97 chars \n",
      "SH20_BROWN: 27 chars \n",
      "SH20_DIRT: 24 chars \n",
      "SH20_LSAND: 161 chars \n",
      "SH20_RED: 34 chars \n",
      "SH20_WHITE: 483 chars \n",
      "SH40_WHITE: 158 chars \n",
      "SH40_SAND: 76 chars \n",
      "SH40_SHADOW_WHITE: 91 chars \n",
      "SH40_LSAND: 3 chars \n",
      "SH65_SAND: 2 chars \n",
      "SH65_YELLOW: 8 chars \n",
      "MC20_BLACK: 227 chars \n",
      "PH20_SAND: 0 chars \n",
      "FP20_SAND: 0 chars \n",
      "SH16_WHITE: 50 chars "
     ]
    }
   ],
   "source": [
    "HF.check_fonts(translation_file,font_file,default_font)     #汉化文件，字体参数，默认字体     #parameters       \n",
    "f= open(font_file,encoding='utf-8')                         #check_fonts()生成各字体使用情况——除了默认字体      \n",
    "font =  f.read().split('\\n')\n",
    "f.close()\n",
    "fonts = []\n",
    "for i in font:\n",
    "    reg = re.match('(.*?){.*}',i)                     ## 如提示字符集发生变更，需要重新绘制字库贴图，否则游戏内无法应用更新！##\n",
    "    if reg!= None:\n",
    "        fonts.append(reg.groups()[0])  \n",
    "\n",
    "for font_name in fonts:                                     #读取字体名称及参数\n",
    "    print(f'\\n{font_name}: ',end='')\n",
    "\n",
    "    if font_name != default_font:                           #非默认字体，读取其usage.txt生成字符集\n",
    "        globals()[f'{font_name}chars'] = HF.find_all_chara_text(f'.\\\\int_files\\\\usage\\\\{font_name}usage.txt',font_name)   #统计所有出现字符，返回字符list 生成 字符名称All_char.txt\n",
    "    else:                                                   #默认字体直接读取汉化文件生成字符集，具有Fallback\n",
    "        globals()[f'{font_name}chars'] = HF.find_all_chara_text(translation_file,font_name)\n",
    "\n",
    "    HF.output_font(globals()[f'{font_name}chars'],row_num,font_name)                               #生成用于绘制贴图的txt  字体名称Draw_char.txt"
   ]
  },
  {
   "cell_type": "markdown",
   "metadata": {},
   "source": [
    "### 第三步 根据build文件夹里生成的Draw_char.txt绘制贴图\n",
    "\n",
    "在build文件夹内的psd文件内添加新的字体\n",
    "\n",
    "此步需要在确定字体各参数：起始坐标X，起始坐标Y，字符宽度及字符高度并填入fonts.txt\n",
    "\n",
    "教程参考https://steamcommunity.com/sharedfiles/filedetails/?id=2709021320"
   ]
  },
  {
   "cell_type": "markdown",
   "metadata": {},
   "source": [
    "### 第四步 生成各字体Res"
   ]
  },
  {
   "cell_type": "code",
   "execution_count": 5,
   "metadata": {},
   "outputs": [
    {
     "name": "stdout",
     "output_type": "stream",
     "text": [
      "res generated\n"
     ]
    }
   ],
   "source": [
    "for font_name in fonts:                                     #读取字体名称及参数\n",
    "    params = HF.font_params(font_file,font_name)\n",
    "    coorX = int(params[1])                                  #起始坐标X\n",
    "    coorY = int(params[2])                                  #起始坐标Y\n",
    "    rectX = int(params[3])                                  #字符宽度\n",
    "    rectY = int(params[4])                                  #字符高度\n",
    "\n",
    "    name_lookup =[]\n",
    "    try :\n",
    "        HF.res_registration(globals()[f'{font_name}chars'],tex_name,font_name,coorX,coorY,rectX,rectY,row_num)   #生成 字体名称.res与字体lookup.txt\n",
    "    except:\n",
    "        print(f'{tex_name}_{font_name}.res error')\n",
    "print(f'res generated')"
   ]
  },
  {
   "cell_type": "markdown",
   "metadata": {},
   "source": [
    "### 第五步 生成总res、english.seria_enc"
   ]
  },
  {
   "cell_type": "code",
   "execution_count": 26,
   "metadata": {},
   "outputs": [],
   "source": [
    "HF.res_compile(tex_name)        #生成Res\n",
    "HF.encode_gen(translation_file,default_font) #生成编码后的english.txt\n",
    "\n",
    "f= open('.\\\\int_files\\\\english.txt','rb')       #生成english.seria_enc 源代码来自https://github.com/stopnoanime/highfleet-dialog                \n",
    "chars =  f.read()\n",
    "f.close()\n",
    "b = 2531011\n",
    "f= open('.\\\\build\\\\english.seria_enc','wb')  \n",
    "for item in chars:\n",
    "    if item ==13:\n",
    "        continue\n",
    "    a = ((b ^ (b >> 15) ^ item) & 0xff)\n",
    "    f.write(a.to_bytes(1,byteorder='little', signed=False))\n",
    "    b += 214013\n",
    "f.close()\n"
   ]
  },
  {
   "cell_type": "markdown",
   "metadata": {},
   "source": [
    "### 清除变量"
   ]
  },
  {
   "cell_type": "code",
   "execution_count": 12,
   "metadata": {},
   "outputs": [],
   "source": [
    "%reset -f"
   ]
  },
  {
   "cell_type": "markdown",
   "metadata": {},
   "source": [
    "## test field"
   ]
  }
 ],
 "metadata": {
  "kernelspec": {
   "display_name": "Python 3.9.7 ('base')",
   "language": "python",
   "name": "python3"
  },
  "language_info": {
   "codemirror_mode": {
    "name": "ipython",
    "version": 3
   },
   "file_extension": ".py",
   "mimetype": "text/x-python",
   "name": "python",
   "nbconvert_exporter": "python",
   "pygments_lexer": "ipython3",
   "version": "3.9.7"
  },
  "orig_nbformat": 4,
  "vscode": {
   "interpreter": {
    "hash": "88279d2366fe020547cde40dd65aa0e3aa662a6ec1f3ca12d88834876c85e1a6"
   }
  }
 },
 "nbformat": 4,
 "nbformat_minor": 2
}
